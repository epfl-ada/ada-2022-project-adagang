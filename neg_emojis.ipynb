{
 "cells": [
  {
   "cell_type": "code",
   "execution_count": 1,
   "id": "ef81f75c",
   "metadata": {
    "scrolled": true
   },
   "outputs": [
    {
     "name": "stdout",
     "output_type": "stream",
     "text": [
      "{'👹', '❗', '💥', '☠', '🔫', '📛', '😠', '😤', '💢', '🚫', '☣', '🔞', '☢', '🔪', '🧨', '👺', '💀', '🤡', '🤢', '💩', '😣', '🪓', '‼', '🗡', '👎', '🤮', '😈', '👿', '⛔', '😡', '🤬', '🖕', '⁉'}\n"
     ]
    }
   ],
   "source": [
    "import pandas as pd\n",
    "import numpy as np\n",
    "from numba import jit, cuda\n",
    "import tqdm\n",
    "import ijson\n",
    "import warnings\n",
    "warnings.filterwarnings(\"ignore\")\n",
    "\n",
    "def count_neg_emojis(text):\n",
    "    words = set(word for word in text.split(' '))\n",
    "    nb_negative = len(words.intersection(neg_emojis))\n",
    "    return nb_negative\n",
    "\n",
    "def count_neg_emojis(text):\n",
    "    words = set(word for word in text.split(' '))\n",
    "    nb_negative = len(words.intersection(neg_emojis))\n",
    "    return nb_negative"
   ]
  },
  {
   "cell_type": "markdown",
   "id": "e353c116",
   "metadata": {},
   "source": [
    "We define the set of negative emojis as follow:"
   ]
  },
  {
   "cell_type": "code",
   "execution_count": null,
   "id": "d9119c2f",
   "metadata": {},
   "outputs": [],
   "source": [
    "neg_emojis = set([\"\\U0001F52B\",\"\\U0001F92E\",\"\\U0001F922\",\"\\U0001F623\",\"\\U0001F624\",\"\\U0001F621\",\"\\U0001F620\",\"\\U0001F92C\",\"\\U0001F608\",\"\\U0001F47F\",\"\\U0001F480\",\"\\U00002620\",\"\\U0001F4A9\",\"\\U0001F921\",\"\\U0001F479\",\"\\U0001F47A\",\"\\U0001F4A5\",\"\\U0001F4A2\",\"\\U0001F595\",\"\\U0001F44E\",\"\\U0001F52A\",\"\\U0001F9E8\",\"\\U0001FA93\",\"\\U0001F5E1\",\"\\U0001F51E\",\"\\U000026D4\",\"\\U0001F6AB\",\"\\U00002623\",\"\\U00002622\",\"\\U00002757\",\"\\U0000203C\",\"\\U00002049\",\"\\U0001F4DB\"])\n",
    "print(neg_emojis)"
   ]
  },
  {
   "cell_type": "code",
   "execution_count": 25,
   "id": "adb09943",
   "metadata": {},
   "outputs": [],
   "source": [
    "def plot_count_neg_emojis(chunks):\n",
    "    for chunk in chunks:\n",
    "        df_nb_neg_emo = chunk.apply(lambda x : count_negative_emojis(x['description'],x['tags'],x['title']), axis=1)\n",
    "        df_nb_neg_emo_non_null = df_nb_neg_emo[df_nb_neg_emo > 0]\n",
    "        df_nb_neg_emo_non_null.plot.hist() \n",
    "        break\n",
    "        \n",
    "#optimization    \n",
    "def plot_count_neg_emojis2(chunks):\n",
    "    for chunk in chunks:\n",
    "            df = chunk[['description','tags','title']].count(negative_emojis)\n",
    "            print(df)\n",
    "            break                   "
   ]
  },
  {
   "cell_type": "code",
   "execution_count": null,
   "id": "88031954",
   "metadata": {},
   "outputs": [],
   "source": [
    "#Suppose df_videos are only videos from 2019 ! \n",
    "\n",
    "df_videos_count_neg_emojis_desc = df_videos[df_videos.apply(lambda x: count_neg_emojis(x['description']), axis=1) > 0]\n",
    "df_videos_count_neg_emojis_title = df_videos[df_videos.apply(lambda x: count_neg_emojis(x['title']), axis=1) > 0]"
   ]
  },
  {
   "cell_type": "code",
   "execution_count": null,
   "id": "0fd501c9",
   "metadata": {},
   "outputs": [],
   "source": []
  },
  {
   "cell_type": "code",
   "execution_count": 21,
   "id": "79b6a929",
   "metadata": {
    "scrolled": true
   },
   "outputs": [
    {
     "name": "stderr",
     "output_type": "stream",
     "text": [
      "72924794it [39:21, 30887.20it/s]\n"
     ]
    },
    {
     "name": "stdout",
     "output_type": "stream",
     "text": [
      "finished\n"
     ]
    },
    {
     "ename": "NameError",
     "evalue": "name 'list_new_data' is not defined",
     "output_type": "error",
     "traceback": [
      "\u001b[1;31m---------------------------------------------------------------------------\u001b[0m",
      "\u001b[1;31mNameError\u001b[0m                                 Traceback (most recent call last)",
      "\u001b[1;32m~\\AppData\\Local\\Temp\\ipykernel_18436\\2190651980.py\u001b[0m in \u001b[0;36m<module>\u001b[1;34m\u001b[0m\n\u001b[0;32m     12\u001b[0m \u001b[0mf\u001b[0m\u001b[1;33m.\u001b[0m\u001b[0mclose\u001b[0m\u001b[1;33m(\u001b[0m\u001b[1;33m)\u001b[0m\u001b[1;33m\u001b[0m\u001b[1;33m\u001b[0m\u001b[0m\n\u001b[0;32m     13\u001b[0m \u001b[0mprint\u001b[0m\u001b[1;33m(\u001b[0m\u001b[1;34m\"finished\"\u001b[0m\u001b[1;33m)\u001b[0m\u001b[1;33m\u001b[0m\u001b[1;33m\u001b[0m\u001b[0m\n\u001b[1;32m---> 14\u001b[1;33m \u001b[0mfilter_neg_emojis_df\u001b[0m \u001b[1;33m=\u001b[0m \u001b[0mpd\u001b[0m\u001b[1;33m.\u001b[0m\u001b[0mDataFrame\u001b[0m\u001b[1;33m.\u001b[0m\u001b[0mfrom_dict\u001b[0m\u001b[1;33m(\u001b[0m\u001b[0mlist_new_data\u001b[0m\u001b[1;33m)\u001b[0m\u001b[1;33m\u001b[0m\u001b[1;33m\u001b[0m\u001b[0m\n\u001b[0m\u001b[0;32m     15\u001b[0m \u001b[0mfilter_neg_emojis_df\u001b[0m\u001b[1;33m.\u001b[0m\u001b[0mto_csv\u001b[0m\u001b[1;33m(\u001b[0m\u001b[1;34m'filtered_merges_neg_emoji.csv'\u001b[0m\u001b[1;33m)\u001b[0m\u001b[1;33m\u001b[0m\u001b[1;33m\u001b[0m\u001b[0m\n",
      "\u001b[1;31mNameError\u001b[0m: name 'list_new_data' is not defined"
     ]
    }
   ],
   "source": [
    "f = open(\"data/yt_metadata_en.jsonl\")\n",
    "videos = ijson.items(f, '', multiple_values=True)\n",
    "list_count_neg_emojis = []\n",
    "\n",
    "for video in tqdm.tqdm(videos):\n",
    "    count_neg_emojis_desc = count_neg_emojis(video['description'])\n",
    "    count_neg_emojis_title = count_neg_emojis(video['title'])\n",
    "    list_count_neg_emojis.append({\n",
    "        'count_neg_emojis_desc': count_neg_emojis_desc,\n",
    "        'count_neg_emojis_title': count_neg_emojis_title\n",
    "    })\n",
    "f.close()    \n",
    "print(\"finished\") #40 min"
   ]
  },
  {
   "cell_type": "code",
   "execution_count": 22,
   "id": "e6439cb6",
   "metadata": {},
   "outputs": [
    {
     "ename": "KeyboardInterrupt",
     "evalue": "",
     "output_type": "error",
     "traceback": [
      "\u001b[1;31m---------------------------------------------------------------------------\u001b[0m",
      "\u001b[1;31mKeyboardInterrupt\u001b[0m                         Traceback (most recent call last)",
      "\u001b[1;32m~\\AppData\\Local\\Temp\\ipykernel_18436\\4077904160.py\u001b[0m in \u001b[0;36m<module>\u001b[1;34m\u001b[0m\n\u001b[0;32m      1\u001b[0m \u001b[0mfilter_neg_emojis_df\u001b[0m \u001b[1;33m=\u001b[0m \u001b[0mpd\u001b[0m\u001b[1;33m.\u001b[0m\u001b[0mDataFrame\u001b[0m\u001b[1;33m.\u001b[0m\u001b[0mfrom_dict\u001b[0m\u001b[1;33m(\u001b[0m\u001b[0mlist_count_neg_emojis\u001b[0m\u001b[1;33m)\u001b[0m\u001b[1;33m\u001b[0m\u001b[1;33m\u001b[0m\u001b[0m\n\u001b[1;32m----> 2\u001b[1;33m \u001b[0mfilter_neg_emojis_df\u001b[0m\u001b[1;33m.\u001b[0m\u001b[0mto_csv\u001b[0m\u001b[1;33m(\u001b[0m\u001b[1;34m'filtered_merges_neg_emoji.csv'\u001b[0m\u001b[1;33m)\u001b[0m\u001b[1;33m\u001b[0m\u001b[1;33m\u001b[0m\u001b[0m\n\u001b[0m",
      "\u001b[1;32m~\\anaconda3\\lib\\site-packages\\pandas\\core\\generic.py\u001b[0m in \u001b[0;36mto_csv\u001b[1;34m(self, path_or_buf, sep, na_rep, float_format, columns, header, index, index_label, mode, encoding, compression, quoting, quotechar, line_terminator, chunksize, date_format, doublequote, escapechar, decimal, errors, storage_options)\u001b[0m\n\u001b[0;32m   3549\u001b[0m         )\n\u001b[0;32m   3550\u001b[0m \u001b[1;33m\u001b[0m\u001b[0m\n\u001b[1;32m-> 3551\u001b[1;33m         return DataFrameRenderer(formatter).to_csv(\n\u001b[0m\u001b[0;32m   3552\u001b[0m             \u001b[0mpath_or_buf\u001b[0m\u001b[1;33m,\u001b[0m\u001b[1;33m\u001b[0m\u001b[1;33m\u001b[0m\u001b[0m\n\u001b[0;32m   3553\u001b[0m             \u001b[0mline_terminator\u001b[0m\u001b[1;33m=\u001b[0m\u001b[0mline_terminator\u001b[0m\u001b[1;33m,\u001b[0m\u001b[1;33m\u001b[0m\u001b[1;33m\u001b[0m\u001b[0m\n",
      "\u001b[1;32m~\\anaconda3\\lib\\site-packages\\pandas\\io\\formats\\format.py\u001b[0m in \u001b[0;36mto_csv\u001b[1;34m(self, path_or_buf, encoding, sep, columns, index_label, mode, compression, quoting, quotechar, line_terminator, chunksize, date_format, doublequote, escapechar, errors, storage_options)\u001b[0m\n\u001b[0;32m   1178\u001b[0m             \u001b[0mformatter\u001b[0m\u001b[1;33m=\u001b[0m\u001b[0mself\u001b[0m\u001b[1;33m.\u001b[0m\u001b[0mfmt\u001b[0m\u001b[1;33m,\u001b[0m\u001b[1;33m\u001b[0m\u001b[1;33m\u001b[0m\u001b[0m\n\u001b[0;32m   1179\u001b[0m         )\n\u001b[1;32m-> 1180\u001b[1;33m         \u001b[0mcsv_formatter\u001b[0m\u001b[1;33m.\u001b[0m\u001b[0msave\u001b[0m\u001b[1;33m(\u001b[0m\u001b[1;33m)\u001b[0m\u001b[1;33m\u001b[0m\u001b[1;33m\u001b[0m\u001b[0m\n\u001b[0m\u001b[0;32m   1181\u001b[0m \u001b[1;33m\u001b[0m\u001b[0m\n\u001b[0;32m   1182\u001b[0m         \u001b[1;32mif\u001b[0m \u001b[0mcreated_buffer\u001b[0m\u001b[1;33m:\u001b[0m\u001b[1;33m\u001b[0m\u001b[1;33m\u001b[0m\u001b[0m\n",
      "\u001b[1;32m~\\anaconda3\\lib\\site-packages\\pandas\\io\\formats\\csvs.py\u001b[0m in \u001b[0;36msave\u001b[1;34m(self)\u001b[0m\n\u001b[0;32m    259\u001b[0m             )\n\u001b[0;32m    260\u001b[0m \u001b[1;33m\u001b[0m\u001b[0m\n\u001b[1;32m--> 261\u001b[1;33m             \u001b[0mself\u001b[0m\u001b[1;33m.\u001b[0m\u001b[0m_save\u001b[0m\u001b[1;33m(\u001b[0m\u001b[1;33m)\u001b[0m\u001b[1;33m\u001b[0m\u001b[1;33m\u001b[0m\u001b[0m\n\u001b[0m\u001b[0;32m    262\u001b[0m \u001b[1;33m\u001b[0m\u001b[0m\n\u001b[0;32m    263\u001b[0m     \u001b[1;32mdef\u001b[0m \u001b[0m_save\u001b[0m\u001b[1;33m(\u001b[0m\u001b[0mself\u001b[0m\u001b[1;33m)\u001b[0m \u001b[1;33m->\u001b[0m \u001b[1;32mNone\u001b[0m\u001b[1;33m:\u001b[0m\u001b[1;33m\u001b[0m\u001b[1;33m\u001b[0m\u001b[0m\n",
      "\u001b[1;32m~\\anaconda3\\lib\\site-packages\\pandas\\io\\formats\\csvs.py\u001b[0m in \u001b[0;36m_save\u001b[1;34m(self)\u001b[0m\n\u001b[0;32m    264\u001b[0m         \u001b[1;32mif\u001b[0m \u001b[0mself\u001b[0m\u001b[1;33m.\u001b[0m\u001b[0m_need_to_save_header\u001b[0m\u001b[1;33m:\u001b[0m\u001b[1;33m\u001b[0m\u001b[1;33m\u001b[0m\u001b[0m\n\u001b[0;32m    265\u001b[0m             \u001b[0mself\u001b[0m\u001b[1;33m.\u001b[0m\u001b[0m_save_header\u001b[0m\u001b[1;33m(\u001b[0m\u001b[1;33m)\u001b[0m\u001b[1;33m\u001b[0m\u001b[1;33m\u001b[0m\u001b[0m\n\u001b[1;32m--> 266\u001b[1;33m         \u001b[0mself\u001b[0m\u001b[1;33m.\u001b[0m\u001b[0m_save_body\u001b[0m\u001b[1;33m(\u001b[0m\u001b[1;33m)\u001b[0m\u001b[1;33m\u001b[0m\u001b[1;33m\u001b[0m\u001b[0m\n\u001b[0m\u001b[0;32m    267\u001b[0m \u001b[1;33m\u001b[0m\u001b[0m\n\u001b[0;32m    268\u001b[0m     \u001b[1;32mdef\u001b[0m \u001b[0m_save_header\u001b[0m\u001b[1;33m(\u001b[0m\u001b[0mself\u001b[0m\u001b[1;33m)\u001b[0m \u001b[1;33m->\u001b[0m \u001b[1;32mNone\u001b[0m\u001b[1;33m:\u001b[0m\u001b[1;33m\u001b[0m\u001b[1;33m\u001b[0m\u001b[0m\n",
      "\u001b[1;32m~\\anaconda3\\lib\\site-packages\\pandas\\io\\formats\\csvs.py\u001b[0m in \u001b[0;36m_save_body\u001b[1;34m(self)\u001b[0m\n\u001b[0;32m    302\u001b[0m             \u001b[1;32mif\u001b[0m \u001b[0mstart_i\u001b[0m \u001b[1;33m>=\u001b[0m \u001b[0mend_i\u001b[0m\u001b[1;33m:\u001b[0m\u001b[1;33m\u001b[0m\u001b[1;33m\u001b[0m\u001b[0m\n\u001b[0;32m    303\u001b[0m                 \u001b[1;32mbreak\u001b[0m\u001b[1;33m\u001b[0m\u001b[1;33m\u001b[0m\u001b[0m\n\u001b[1;32m--> 304\u001b[1;33m             \u001b[0mself\u001b[0m\u001b[1;33m.\u001b[0m\u001b[0m_save_chunk\u001b[0m\u001b[1;33m(\u001b[0m\u001b[0mstart_i\u001b[0m\u001b[1;33m,\u001b[0m \u001b[0mend_i\u001b[0m\u001b[1;33m)\u001b[0m\u001b[1;33m\u001b[0m\u001b[1;33m\u001b[0m\u001b[0m\n\u001b[0m\u001b[0;32m    305\u001b[0m \u001b[1;33m\u001b[0m\u001b[0m\n\u001b[0;32m    306\u001b[0m     \u001b[1;32mdef\u001b[0m \u001b[0m_save_chunk\u001b[0m\u001b[1;33m(\u001b[0m\u001b[0mself\u001b[0m\u001b[1;33m,\u001b[0m \u001b[0mstart_i\u001b[0m\u001b[1;33m:\u001b[0m \u001b[0mint\u001b[0m\u001b[1;33m,\u001b[0m \u001b[0mend_i\u001b[0m\u001b[1;33m:\u001b[0m \u001b[0mint\u001b[0m\u001b[1;33m)\u001b[0m \u001b[1;33m->\u001b[0m \u001b[1;32mNone\u001b[0m\u001b[1;33m:\u001b[0m\u001b[1;33m\u001b[0m\u001b[1;33m\u001b[0m\u001b[0m\n",
      "\u001b[1;32m~\\anaconda3\\lib\\site-packages\\pandas\\io\\formats\\csvs.py\u001b[0m in \u001b[0;36m_save_chunk\u001b[1;34m(self, start_i, end_i)\u001b[0m\n\u001b[0;32m    313\u001b[0m \u001b[1;33m\u001b[0m\u001b[0m\n\u001b[0;32m    314\u001b[0m         \u001b[0mix\u001b[0m \u001b[1;33m=\u001b[0m \u001b[0mself\u001b[0m\u001b[1;33m.\u001b[0m\u001b[0mdata_index\u001b[0m\u001b[1;33m[\u001b[0m\u001b[0mslicer\u001b[0m\u001b[1;33m]\u001b[0m\u001b[1;33m.\u001b[0m\u001b[0m_format_native_types\u001b[0m\u001b[1;33m(\u001b[0m\u001b[1;33m**\u001b[0m\u001b[0mself\u001b[0m\u001b[1;33m.\u001b[0m\u001b[0m_number_format\u001b[0m\u001b[1;33m)\u001b[0m\u001b[1;33m\u001b[0m\u001b[1;33m\u001b[0m\u001b[0m\n\u001b[1;32m--> 315\u001b[1;33m         libwriters.write_csv_rows(\n\u001b[0m\u001b[0;32m    316\u001b[0m             \u001b[0mdata\u001b[0m\u001b[1;33m,\u001b[0m\u001b[1;33m\u001b[0m\u001b[1;33m\u001b[0m\u001b[0m\n\u001b[0;32m    317\u001b[0m             \u001b[0mix\u001b[0m\u001b[1;33m,\u001b[0m\u001b[1;33m\u001b[0m\u001b[1;33m\u001b[0m\u001b[0m\n",
      "\u001b[1;32m~\\anaconda3\\lib\\site-packages\\pandas\\_libs\\writers.pyx\u001b[0m in \u001b[0;36mpandas._libs.writers.write_csv_rows\u001b[1;34m()\u001b[0m\n",
      "\u001b[1;31mKeyboardInterrupt\u001b[0m: "
     ]
    }
   ],
   "source": [
    "filter_neg_emojis_df = pd.DataFrame.from_dict(list_count_neg_emojis)\n",
    "filter_neg_emojis_df.to_csv('filtered_merges_neg_emoji.csv') #takes time as well !"
   ]
  },
  {
   "cell_type": "code",
   "execution_count": 26,
   "id": "ca8c6848",
   "metadata": {},
   "outputs": [
    {
     "name": "stderr",
     "output_type": "stream",
     "text": [
      "73it [1:08:55, 56.65s/it] \n"
     ]
    }
   ],
   "source": [
    "chunks = pd.read_json(\"data/yt_metadata_en.jsonl\", lines=True, chunksize=1000000)\n",
    "\n",
    "filtered_chunks = []\n",
    "for chunk in tqdm.tqdm(chunks):\n",
    "    df_filtered = chunk[chunk.apply(lambda x: count_neg_emojis_df(x['description'],x['title']), axis=1) > 0]\n",
    "    filtered_chunks.append(df_filtered)\n",
    "df_merged = pd.concat(filtered_chunks)    \n",
    "df_merged.to_csv('filtered_merged_neg_emoji.csv')"
   ]
  },
  {
   "cell_type": "code",
   "execution_count": null,
   "id": "dcc46627",
   "metadata": {},
   "outputs": [],
   "source": [
    "filter_neg_emojis_df.head()"
   ]
  },
  {
   "cell_type": "code",
   "execution_count": null,
   "id": "5e42b18d",
   "metadata": {},
   "outputs": [],
   "source": [
    "f = open(data_path + 'yt_metadata_en.jsonl')\n",
    "output = open('generated/videos_few_columnstmp.csv', 'w')\n",
    "\n",
    "videos = ijson.items(f, '', multiple_values=True)\n",
    "\n",
    "columns_to_drop = [\n",
    "    'description', \n",
    "    'tags', \n",
    "    'title',\n",
    "    'display_id',\n",
    "    'duration',\n",
    "    'crawl_date'\n",
    "]\n",
    "    \n",
    "columns_to_keep = [\n",
    "    'categories', \n",
    "    'channel_id', \n",
    "    'dislike_count', \n",
    "    'like_count',\n",
    "    'upload_date',\n",
    "    'view_count'\n",
    "\n",
    "]\n",
    "\n",
    "columns = [f'\"{str(col)}\"' for col in columns_to_keep]\n",
    "output.write(','.join(columns))\n",
    "output.write('\\n')\n",
    "\n",
    "for video in tqdm(videos):\n",
    "    \n",
    "    data_to_write = [str(video[field]) for field in columns_to_keep]\n",
    "    output.write(','.join(data_to_write))\n",
    "    output.write('\\n')\n",
    "    \n",
    "    \n",
    "print('Finished') # 11min05s\n",
    "output.close()\n",
    "f.close()\n",
    "\n",
    "\n",
    "types_col = {    \n",
    "    'categories': 'string', \n",
    "    'channel_id': 'string', \n",
    "    'dislike_count': 'Int32',\n",
    "    'like_count': 'Int64',\n",
    "    'upload_date': 'string', \n",
    "    'view_count': 'Int64'\n",
    "}\n",
    "v = pd.read_csv(\n",
    "    'generated/videos_few_columns.csv', \n",
    "    sep=',', \n",
    "    header=0, \n",
    "    dtype=types_col, \n",
    "    na_values=['None'], \n",
    "    engine='c'\n",
    ")\n",
    "\n",
    "v.to_parquet('generated/videos_few_columns.parquet', compression=None)"
   ]
  },
  {
   "cell_type": "code",
   "execution_count": null,
   "id": "49eda027",
   "metadata": {},
   "outputs": [],
   "source": [
    "all_videos = pd.read_parquet('generated/videos_few_columns.parquet', engine='fastparquet')"
   ]
  },
  {
   "cell_type": "code",
   "execution_count": null,
   "id": "4f2b189e",
   "metadata": {},
   "outputs": [],
   "source": [
    "joined = all_videos.join(filter_neg_emojis_df)"
   ]
  },
  {
   "cell_type": "code",
   "execution_count": null,
   "id": "512d5d4f",
   "metadata": {},
   "outputs": [],
   "source": [
    "joined.to_parquet('generated/videos_CountNegWordsTitle.parquet', compression=None)"
   ]
  },
  {
   "cell_type": "markdown",
   "id": "eac12f39",
   "metadata": {},
   "source": [
    "## Plots"
   ]
  },
  {
   "cell_type": "code",
   "execution_count": null,
   "id": "153b37dc",
   "metadata": {},
   "outputs": [],
   "source": [
    "joined.head()"
   ]
  },
  {
   "cell_type": "code",
   "execution_count": null,
   "id": "01ae981e",
   "metadata": {},
   "outputs": [],
   "source": []
  }
 ],
 "metadata": {
  "kernelspec": {
   "display_name": "Python 3 (ipykernel)",
   "language": "python",
   "name": "python3"
  },
  "language_info": {
   "codemirror_mode": {
    "name": "ipython",
    "version": 3
   },
   "file_extension": ".py",
   "mimetype": "text/x-python",
   "name": "python",
   "nbconvert_exporter": "python",
   "pygments_lexer": "ipython3",
   "version": "3.9.13"
  }
 },
 "nbformat": 4,
 "nbformat_minor": 5
}
