{
 "cells": [
  {
   "cell_type": "markdown",
   "id": "c0542057",
   "metadata": {},
   "source": [
    "# Data loading"
   ]
  },
  {
   "cell_type": "code",
   "execution_count": null,
   "id": "008e6057",
   "metadata": {},
   "outputs": [],
   "source": [
    "import ijson\n",
    "import pandas as pd\n",
    "import pyarrow.feather as feather\n",
    "from nltk.sentiment import SentimentIntensityAnalyzer\n",
    "\n",
    "from tqdm import tqdm"
   ]
  },
  {
   "cell_type": "code",
   "execution_count": null,
   "id": "c0ac76a7",
   "metadata": {},
   "outputs": [],
   "source": [
    "data_path = 'data/'"
   ]
  },
  {
   "cell_type": "markdown",
   "id": "a85f4e44",
   "metadata": {},
   "source": [
    "## Count negative words"
   ]
  },
  {
   "cell_type": "code",
   "execution_count": null,
   "id": "bdd1353f",
   "metadata": {},
   "outputs": [],
   "source": [
    "# Count negative words in titles\n",
    "\n",
    "f = open(data_path + 'yt_metadata_en.jsonl')\n",
    "\n",
    "neg_words = set(open('negative-words.txt', mode='r', encoding='iso-8859-1').read().strip().split(\"\\n\"))\n",
    "\n",
    "titles = ijson.items(f, 'title', multiple_values=True)\n",
    "\n",
    "count_negative_words = dict()\n",
    "count_words = dict()\n",
    "\n",
    "for title in tqdm(titles):\n",
    "    title_words = set(title.split(' '))\n",
    "    nb_negative = len(title_words.intersection(neg_words))\n",
    "    nb_words = len(title_words)\n",
    "    count_negative_words[title] = nb_negative\n",
    "    count_words[title] = nb_words\n",
    "print('Finished')\n",
    "\n",
    "f.close()"
   ]
  },
  {
   "cell_type": "code",
   "execution_count": null,
   "id": "bd03d0bb",
   "metadata": {},
   "outputs": [],
   "source": [
    "# Look at the result\n",
    "count_negative_words"
   ]
  },
  {
   "cell_type": "code",
   "execution_count": null,
   "id": "f720a2e2",
   "metadata": {},
   "outputs": [],
   "source": [
    "# Look at titles where there are many negative words (>= 5)\n",
    "threshold = 5\n",
    "count_neg_large = {title: count for title, count in count_negative_words.items() if count >= threshold}\n",
    "count_neg_large"
   ]
  },
  {
   "cell_type": "markdown",
   "id": "c841738e",
   "metadata": {},
   "source": [
    "## Sentiment analysis computation"
   ]
  },
  {
   "cell_type": "code",
   "execution_count": null,
   "id": "c9efaa12",
   "metadata": {},
   "outputs": [],
   "source": [
    "# Compute sentiment analysis in titles\n",
    "\n",
    "f = open(data_path + 'yt_metadata_en.jsonl')\n",
    "titles = ijson.items(f, 'title', multiple_values=True)\n",
    "sia = SentimentIntensityAnalyzer()\n",
    "\n",
    "neg_neu_pos = dict()\n",
    "\n",
    "for title in tqdm(titles):\n",
    "    negative, neutral, positive, compound = sia.polarity_scores(title).values()\n",
    "    neg_neu_pos[title] = (negative, neutral, positive)\n",
    "    \n",
    "print('finished')\n",
    "\n",
    "f.close()"
   ]
  },
  {
   "cell_type": "code",
   "execution_count": null,
   "id": "233da8bc",
   "metadata": {},
   "outputs": [],
   "source": [
    "# Print the most negative titles\n",
    "sorted(neg_neu_pos.items(), key= lambda x: -x[1][0])"
   ]
  }
 ],
 "metadata": {
  "kernelspec": {
   "display_name": "Python 3 (ipykernel)",
   "language": "python",
   "name": "python3"
  },
  "language_info": {
   "codemirror_mode": {
    "name": "ipython",
    "version": 3
   },
   "file_extension": ".py",
   "mimetype": "text/x-python",
   "name": "python",
   "nbconvert_exporter": "python",
   "pygments_lexer": "ipython3",
   "version": "3.9.7"
  }
 },
 "nbformat": 4,
 "nbformat_minor": 5
}
