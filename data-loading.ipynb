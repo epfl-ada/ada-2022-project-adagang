{
 "cells": [
  {
   "cell_type": "code",
   "execution_count": null,
   "id": "008e6057",
   "metadata": {},
   "outputs": [],
   "source": [
    "import pandas as pd\n",
    "import pyarrow.feather as feather"
   ]
  },
  {
   "cell_type": "code",
   "execution_count": null,
   "id": "e7d3249e",
   "metadata": {},
   "outputs": [],
   "source": [
    "en = pd.read_csv('data/df_channels_en.tsv', sep=\"\\t\")"
   ]
  },
  {
   "cell_type": "code",
   "execution_count": null,
   "id": "fc8c9af4",
   "metadata": {},
   "outputs": [],
   "source": [
    "en"
   ]
  },
  {
   "cell_type": "code",
   "execution_count": null,
   "id": "d938bab8",
   "metadata": {},
   "outputs": [],
   "source": [
    "ts = pd.read_csv('data/df_timeseries_en.tsv', sep=\"\\t\")"
   ]
  },
  {
   "cell_type": "code",
   "execution_count": null,
   "id": "51aa69ed",
   "metadata": {},
   "outputs": [],
   "source": [
    "ts.set_index('channel')"
   ]
  },
  {
   "cell_type": "code",
   "execution_count": null,
   "id": "9a8163a3",
   "metadata": {},
   "outputs": [],
   "source": [
    "ts[ts.channel == 'UCBJuEqXfXTdcPSbGO9qqn1g']"
   ]
  },
  {
   "cell_type": "code",
   "execution_count": null,
   "id": "a932fee8",
   "metadata": {},
   "outputs": [],
   "source": [
    "md = pd.read_feather(\"data/yt_metadata_helper.feather\", use_threads=False, columns=[\"title\"])"
   ]
  },
  {
   "cell_type": "code",
   "execution_count": null,
   "id": "e8078f30",
   "metadata": {},
   "outputs": [],
   "source": [
    "md"
   ]
  },
  {
   "cell_type": "code",
   "execution_count": null,
   "id": "426cfc8b",
   "metadata": {},
   "outputs": [],
   "source": [
    "from tqdm import tqdm\n",
    "\n",
    "tags = set()\n",
    "nrows = 2000\n",
    "i = 0\n",
    "for df_chunk in tqdm(pd.read_json(\"data/yt_metadata_en.jsonl.gz\", lines=True, chunksize=2, nrows=None)):\n",
    "    for vid_tags in df_chunk['description'].values:\n",
    "        tags = tags.union(vid_tags.split(' '))    \n",
    "    \n",
    "    if i >= nrows:\n",
    "        break\n",
    "    else:\n",
    "        i += 1\n",
    "    \n",
    "\n",
    "len(tags)"
   ]
  },
  {
   "cell_type": "code",
   "execution_count": null,
   "id": "e6373c94",
   "metadata": {},
   "outputs": [],
   "source": [
    "'chinese flu' in tags"
   ]
  },
  {
   "cell_type": "code",
   "execution_count": null,
   "id": "35eb7493",
   "metadata": {},
   "outputs": [],
   "source": [
    "tags"
   ]
  },
  {
   "cell_type": "code",
   "execution_count": null,
   "id": "a0e84b13",
   "metadata": {},
   "outputs": [],
   "source": []
  }
 ],
 "metadata": {
  "kernelspec": {
   "display_name": "Python 3 (ipykernel)",
   "language": "python",
   "name": "python3"
  },
  "language_info": {
   "codemirror_mode": {
    "name": "ipython",
    "version": 3
   },
   "file_extension": ".py",
   "mimetype": "text/x-python",
   "name": "python",
   "nbconvert_exporter": "python",
   "pygments_lexer": "ipython3",
   "version": "3.9.7"
  }
 },
 "nbformat": 4,
 "nbformat_minor": 5
}
