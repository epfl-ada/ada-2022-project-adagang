{
 "cells": [
  {
   "cell_type": "markdown",
   "id": "1ac01939",
   "metadata": {},
   "source": [
    "# Does provocation make success?"
   ]
  },
  {
   "cell_type": "markdown",
   "id": "dee31b72",
   "metadata": {},
   "source": [
    "\"If I'm a YouTuber, what will happen if I make a provocative video?\""
   ]
  },
  {
   "cell_type": "markdown",
   "id": "344a5289",
   "metadata": {},
   "source": [
    "## 1 Exploring different ways to provocate"
   ]
  },
  {
   "cell_type": "markdown",
   "id": "60afe366",
   "metadata": {},
   "source": [
    "There are different ways to make a provocative video. How do they affect the success? We will first explore them separately.\n",
    "1. Capitalization and exclamation marks\n",
    "2. Negative emojis\n",
    "3. Provocative vocabulary\n",
    "4. Sentiment analysis"
   ]
  },
  {
   "cell_type": "markdown",
   "id": "07c51ecd",
   "metadata": {},
   "source": [
    "There are also different ways to define the success of a video: \n",
    "\n",
    "1. Number of likes on the video\n",
    "2. Number of views of the video\n",
    "3. Difference in number of subscribers to the channel after 1 week (for example) (In this case we should remove videos where another video has been posted in the period, to be able to isolate the effect of the video on the number of subscribers)\n",
    "\n",
    "All these should be normalized according to the importance of the channel posting the video (e.g. divide by the number of views of the channel up to the date at which the video is posted)."
   ]
  },
  {
   "cell_type": "markdown",
   "id": "c66071fc",
   "metadata": {},
   "source": [
    "Note: For continuous provocation measures (e.g. nb of provocative words, sentiment analysis score) we could try to print the 10 most provocative videos to get a sense of what the provocation measure looks like."
   ]
  },
  {
   "cell_type": "markdown",
   "id": "8a819a13",
   "metadata": {},
   "source": [
    "### 1.1 Capitalization and exclamation marks"
   ]
  },
  {
   "cell_type": "markdown",
   "id": "a491a6b4",
   "metadata": {},
   "source": []
  },
  {
   "cell_type": "markdown",
   "id": "74b4a433",
   "metadata": {},
   "source": [
    "### 1.2 Negative emojis"
   ]
  },
  {
   "cell_type": "code",
   "execution_count": null,
   "id": "97b05f06",
   "metadata": {},
   "outputs": [],
   "source": [
    "# Plot 'Increase in subscribers after a video is posted' (mean across all videos)\n",
    "# x axis: nb of days after the video is posted\n",
    "# y axis: (normalized) fraction of increase of subscribers fir the channel\n",
    "# - one line for the mean of all videos with emojis\n",
    "# - one line for the mean of all videos without emojis\n",
    "# Also plot confidence intervals"
   ]
  },
  {
   "cell_type": "code",
   "execution_count": null,
   "id": "f7c0bbfe",
   "metadata": {},
   "outputs": [],
   "source": [
    "# Plot 'Number of likes on video by channel category (or video category)'\n",
    "# x axis: categories of videos (Politics, History, ...) (or channel categories)\n",
    "# y axis: (normalized) number of likes\n",
    "# - one rectangle for each category (with mean and CI) for videos with negative emojis\n",
    "# - same for videos without negative emojis (we can plot the two rectangles side by side)\n",
    "# Note: we can do the same plot for other outcomes (e.g. nb of views for each video)"
   ]
  },
  {
   "cell_type": "code",
   "execution_count": null,
   "id": "a489b497",
   "metadata": {},
   "outputs": [],
   "source": [
    "# Plot 'Distribution of the number of likes' (histogram)\n",
    "# x axis: bins representing the (normalized) number of likes (maybe use log axis)\n",
    "# y axis: number of videos in each bin\n",
    "# - one histogram for the distribution videos with negative emojis\n",
    "# - one for the distribution of videos without negative emojis \n",
    "# Think of a way to represent the histograms so that we can compare the two but it is still readable."
   ]
  },
  {
   "cell_type": "code",
   "execution_count": null,
   "id": "8a702d50",
   "metadata": {},
   "outputs": [],
   "source": [
    "# Top 5 (or 10) videos with the highest (normalized) number of likes, \n",
    "# to get a sense of what are these provocative videos \n",
    "# (Think if this is really a good idea.)"
   ]
  },
  {
   "cell_type": "markdown",
   "id": "4069d366",
   "metadata": {},
   "source": [
    "### 1.3 Provocative words"
   ]
  },
  {
   "cell_type": "markdown",
   "id": "493e899d",
   "metadata": {},
   "source": []
  },
  {
   "cell_type": "markdown",
   "id": "90abb065",
   "metadata": {},
   "source": [
    "### 1.4 Sentiment analysis"
   ]
  },
  {
   "cell_type": "markdown",
   "id": "e5dd6995",
   "metadata": {},
   "source": []
  },
  {
   "cell_type": "markdown",
   "id": "aa5f6cf9",
   "metadata": {},
   "source": [
    "## 2 What type of provocation is most successful?"
   ]
  },
  {
   "cell_type": "markdown",
   "id": "3c696d5d",
   "metadata": {},
   "source": [
    "- Do a regression analysis on the different factors explored in part 1."
   ]
  },
  {
   "cell_type": "code",
   "execution_count": null,
   "id": "65eba65f",
   "metadata": {},
   "outputs": [],
   "source": [
    "# variables:\n",
    "# - indicator_negative_emojis (or count, normalized to be in [0,1])\n",
    "# - indicator_provocative_words (or count, normalized to be in [0,1])\n",
    "# - score_sentiment_analysis (normalized to be in [0,1])\n",
    "# - ...\n",
    "#\n",
    "# outcome: nb_likes_video, or nb_views_video, (or nb_new_subscribers_1_week)\n",
    "# (all normalized for the channel's importance)"
   ]
  },
  {
   "cell_type": "markdown",
   "id": "888c7fd9",
   "metadata": {},
   "source": [
    "- Redo the exploration of part 1 for a combined factor (e.g.`0.2*emojis + 0.8*provocative_words`) that we expect to be very successful (find it using the regression above)."
   ]
  },
  {
   "cell_type": "code",
   "execution_count": null,
   "id": "3f7e0324",
   "metadata": {},
   "outputs": [],
   "source": []
  },
  {
   "cell_type": "markdown",
   "id": "d8f6d446",
   "metadata": {},
   "source": [
    "## 3 Is provocation (really) a good strategy?"
   ]
  },
  {
   "cell_type": "markdown",
   "id": "866090b6",
   "metadata": {},
   "source": [
    "- Do people get bored by too much provocation? I.e. is there a difference in success effect between channels that are very often provocative and channels that are only seldom provocative?"
   ]
  },
  {
   "cell_type": "code",
   "execution_count": null,
   "id": "26d56c17",
   "metadata": {},
   "outputs": [],
   "source": []
  },
  {
   "cell_type": "markdown",
   "id": "35cc38dc",
   "metadata": {},
   "source": [
    "- Bad buzz: what about the dislikes on provocative videos? Are there many?"
   ]
  },
  {
   "cell_type": "code",
   "execution_count": null,
   "id": "d26e0d82",
   "metadata": {},
   "outputs": [],
   "source": []
  },
  {
   "cell_type": "markdown",
   "id": "7c86434f",
   "metadata": {},
   "source": [
    "- Maybe provocation does not make success, but does it generate discussion? (nb of comments, nb of comments divided by nb of views) (Also study it by category of videos, to see if some subjects are more likely to generate have debates in the comment section.)"
   ]
  },
  {
   "cell_type": "code",
   "execution_count": null,
   "id": "fb73b73f",
   "metadata": {},
   "outputs": [],
   "source": []
  }
 ],
 "metadata": {
  "kernelspec": {
   "display_name": "Python 3 (ipykernel)",
   "language": "python",
   "name": "python3"
  },
  "language_info": {
   "codemirror_mode": {
    "name": "ipython",
    "version": 3
   },
   "file_extension": ".py",
   "mimetype": "text/x-python",
   "name": "python",
   "nbconvert_exporter": "python",
   "pygments_lexer": "ipython3",
   "version": "3.9.7"
  }
 },
 "nbformat": 4,
 "nbformat_minor": 5
}
