{
 "cells": [
  {
   "cell_type": "code",
   "execution_count": null,
   "id": "def575bf",
   "metadata": {},
   "outputs": [],
   "source": []
  },
  {
   "cell_type": "code",
   "execution_count": null,
   "id": "644b1e5e",
   "metadata": {},
   "outputs": [],
   "source": []
  },
  {
   "cell_type": "code",
   "execution_count": null,
   "id": "d4644e46",
   "metadata": {},
   "outputs": [],
   "source": []
  },
  {
   "cell_type": "code",
   "execution_count": null,
   "id": "9210d966",
   "metadata": {},
   "outputs": [],
   "source": [
    "# Subroutine for sentiment analysis\n",
    "\n",
    "from nltk.sentiment import SentimentIntensityAnalyzer\n",
    "sia = SentimentIntensityAnalyzer()\n",
    "\n",
    "\n",
    "def sentiment_analysis_row(row):\n",
    "    ''' Return (negative, neutral, positive, [[compound?]])\n",
    "    \n",
    "    '''\n",
    "    negative, neutral, positive, compound = sia.polarity_scores(row)\n",
    "    return negative, neutral, positive\n",
    "\n",
    "\n",
    "chunk['description_sentiment_negative'], chunk['description_sentiment_neutral'], chunk['description_sentiment_positive'] = chunk['description'].apply(sentiment_analysis_row)\n",
    "chunk['title_sentiment_negative'], chunk['title_sentiment_neutral'], chunk['title_sentiment_positive'] = chunk['title'].apply(sentiment_analysis_row)"
   ]
  }
 ],
 "metadata": {
  "kernelspec": {
   "display_name": "Python 3 (ipykernel)",
   "language": "python",
   "name": "python3"
  },
  "language_info": {
   "codemirror_mode": {
    "name": "ipython",
    "version": 3
   },
   "file_extension": ".py",
   "mimetype": "text/x-python",
   "name": "python",
   "nbconvert_exporter": "python",
   "pygments_lexer": "ipython3",
   "version": "3.9.7"
  }
 },
 "nbformat": 4,
 "nbformat_minor": 5
}
